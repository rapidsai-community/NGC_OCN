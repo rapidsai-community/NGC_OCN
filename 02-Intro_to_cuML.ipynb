{
 "cells": [
  {
   "cell_type": "markdown",
   "id": "49ba0e05-b26e-45a8-9e72-c8797e14de05",
   "metadata": {
    "tags": []
   },
   "source": [
    "# Introdction to cuML \n",
    "\n",
    "cuML is suite of GPU-accelerated machine learning algorithms, designed to accelerate your data science and analytical workloads. From pre-processing data through to training and evaluating models, cuML proivdes a user-friendly API and a wide range of functionality to help you get the most from your GPUs.  \n",
    "\n",
    "### Key Concepts\n",
    "\n",
    "The following key concepts sit at the core of cuML's design, and enable you to get the most out of your data:\n",
    "\n",
    "#### 1. Where possible, match the scikit-learn API\n",
    "\n",
    "cuML estimators look and feel just like scikit-learn estimators. You initialize them with key parameters, fit them with a fit method, then call predict or transform for inference.\n",
    "\n",
    "#### 2. Accept flexible input types, return predictable output types\n",
    "\n",
    "cuML estimators can accept NumPy arrays, cuDF dataframes, cuPy arrays, 2d PyTorch tensors, and really any kind of standards-based Python array input you can throw at them.\n",
    "\n",
    "By default, outputs will mirror the data type you provided.\n",
    "\n",
    "#### 3. Be fast!\n",
    "\n",
    "On a modern GPU, these can exceed the performance of CPU-based equivalents by a factor of anything from 4x (for a medium-sized linear regression) to over 1000x (for large-scale tSNE dimensionality reduction). In many cases, performance advantages appear as the dataset grows."
   ]
  },
  {
   "cell_type": "markdown",
   "id": "458b6218-ece1-4f4b-a5a7-21d730de0c5b",
   "metadata": {},
   "source": [
    "In this notebook we step through some of the functionality of cuML, in the context of a standard data science workflow. \n",
    "\n",
    "We begin importing the cuML module, as well as cuDF, and simulating some data to use in the rest of the notebook."
   ]
  },
  {
   "cell_type": "code",
   "execution_count": 1,
   "id": "94a6e5ed-12f1-4e84-a992-5e4e721139f3",
   "metadata": {},
   "outputs": [],
   "source": [
    "import cudf\n",
    "import cuml"
   ]
  },
  {
   "cell_type": "markdown",
   "id": "6c6a2b52-02b8-4f31-8484-6ee90038e956",
   "metadata": {},
   "source": [
    "In the next cell we simulate 100,000 data samples. Each sample has 70 features, and belongs to one of two distinct classes. "
   ]
  },
  {
   "cell_type": "code",
   "execution_count": 2,
   "id": "2f38a04c-58ca-4272-9e60-6bd3c4fd3890",
   "metadata": {},
   "outputs": [],
   "source": [
    "from cuml.datasets import make_classification, make_regression\n",
    "\n",
    "NFEATURES = 70\n",
    "\n",
    "X, y = make_classification(\n",
    "    n_samples=100000,\n",
    "    n_features=NFEATURES,\n",
    "    n_informative=NFEATURES,\n",
    "    n_redundant=0,\n",
    "    n_classes=2,\n",
    "    class_sep=0.01,\n",
    "    random_state=12\n",
    ")\n"
   ]
  },
  {
   "cell_type": "markdown",
   "id": "2d3b666d-5c3c-4ad7-8a88-6e9a2853765c",
   "metadata": {},
   "source": [
    "Let's take a look at one  sample, below: "
   ]
  },
  {
   "cell_type": "code",
   "execution_count": 3,
   "id": "3fd07df4-1c28-465c-b949-301f5e1a35e6",
   "metadata": {},
   "outputs": [
    {
     "name": "stdout",
     "output_type": "stream",
     "text": [
      "[ -1.9980202    3.9556055   -2.6809473   -2.8941283    0.9291506\n",
      "   3.065332     0.6860125    5.5918903   -4.6641183   -3.4821155\n",
      "   3.257878    -4.8201156    1.6298611  -15.224871     0.38845295\n",
      "  -0.02067883  -0.543524    -0.05218849   0.29240498   0.4383254\n",
      "   8.921663     1.4747543    3.1600246    5.535305     0.82545483\n",
      "   3.1657386    2.759442     5.6177692    2.6039474    3.0497644\n",
      "   0.63242275  -3.1524584    3.0872924    1.1401846   -3.3063142\n",
      "  -4.09136      7.074211     1.2850634   -3.8583715    0.55310374\n",
      "  -1.4354117    1.3183861   -2.924463    -2.1001132    4.5445905\n",
      "   1.1647617   -1.0559907   -6.4415402    6.506664    -2.323572\n",
      "   6.187154     3.5928614    9.423635     1.7855508    0.34430474\n",
      "   6.3704047    6.2556496   -0.26052332   5.361425    -3.538777\n",
      "   2.1183784   -6.2708344    4.6758003   -3.738656    -1.0349029\n",
      "   2.316828    -5.930797     0.15795861  -8.333983     2.1715055 ] 0\n"
     ]
    }
   ],
   "source": [
    "print(X[0], y[0])"
   ]
  },
  {
   "cell_type": "markdown",
   "id": "a247b798-b7a7-49a3-a3b6-906d9ca878d3",
   "metadata": {},
   "source": [
    "## Split data into training and testing set"
   ]
  },
  {
   "cell_type": "markdown",
   "id": "096c0adf-bc19-4b31-873a-447aa5c0dd54",
   "metadata": {},
   "source": [
    "We use the `train_test_split` function to divide our data into training and testing sets. \n",
    "\n",
    "We'll use the testing set later to evaluate the performance of the models we train. "
   ]
  },
  {
   "cell_type": "code",
   "execution_count": 4,
   "id": "d7f1e7fc-74d8-4de8-9723-404aee4268a8",
   "metadata": {},
   "outputs": [],
   "source": [
    "from cuml.model_selection import train_test_split\n",
    "\n",
    "## set train_size such that 70% of data is in the training set, 30% in the test\n",
    "X_train, X_test, y_train, y_test = train_test_split(X, y, train_size=0.7, random_state=101)"
   ]
  },
  {
   "cell_type": "code",
   "execution_count": 5,
   "id": "204bbacf-2c7d-49af-96f2-4bf9417ec7f4",
   "metadata": {},
   "outputs": [
    {
     "name": "stdout",
     "output_type": "stream",
     "text": [
      "70000\n",
      "30000\n"
     ]
    }
   ],
   "source": [
    "print(len(X_train))\n",
    "print(len(X_test))"
   ]
  },
  {
   "cell_type": "markdown",
   "id": "6e85eca7-f0a3-4b37-92a2-149956a8551c",
   "metadata": {},
   "source": [
    "## Explore and preprocess the data\n",
    "\n",
    "Now that we have split our data into training and test sets we can begin to apply transformations. Just like scikit-learn, cuML estimators admit the _initialise_, _fit_, and _predict_ or _transform_ functionality. \n",
    "\n",
    "Let's see this in action with a the `MaxAbsScaler`. This scaler transforms each feature (column) of our data set by scaling it so that the maximum absolute value of each feature is 1.  "
   ]
  },
  {
   "cell_type": "code",
   "execution_count": 6,
   "id": "e2d0cc48-cccb-4fe9-9315-9eec95fb7ea3",
   "metadata": {},
   "outputs": [],
   "source": [
    "from cuml.preprocessing import MaxAbsScaler"
   ]
  },
  {
   "cell_type": "code",
   "execution_count": 7,
   "id": "c779babd-af3d-440c-90e6-560b8dcdb18b",
   "metadata": {},
   "outputs": [
    {
     "data": {
      "text/plain": [
       "array([[ 0.08541051,  0.04574193, -0.25868776, ...,  0.04394882,\n",
       "        -0.00525169, -0.32427284],\n",
       "       [ 0.2839447 ,  0.37636262, -0.3690871 , ...,  0.00267437,\n",
       "        -0.09742295,  0.2868341 ],\n",
       "       [ 0.16277884,  0.22848997,  0.00721657, ...,  0.0916765 ,\n",
       "         0.02357151,  0.09881533],\n",
       "       ...,\n",
       "       [-0.14040077,  0.17064498,  0.14495125, ..., -0.01784683,\n",
       "         0.2011555 ,  0.0394319 ],\n",
       "       [ 0.2973317 , -0.14708188,  0.34465507, ..., -0.15666665,\n",
       "        -0.32545227,  0.1068793 ],\n",
       "       [ 0.01214891,  0.15419926, -0.3105086 , ...,  0.11526794,\n",
       "         0.35807538, -0.126101  ]], dtype=float32)"
      ]
     },
     "execution_count": 7,
     "metadata": {},
     "output_type": "execute_result"
    }
   ],
   "source": [
    "## initialise the estimator\n",
    "ma_scaler = MaxAbsScaler()\n",
    "\n",
    "# fit the scaler to our training data\n",
    "ma_scaler.fit(X_train)\n",
    "\n",
    "\n",
    "# transform the testing data: \n",
    "ma_scaler.transform(X_test)"
   ]
  },
  {
   "cell_type": "markdown",
   "id": "14acaf75-40b1-48be-bccd-e0aafde4258e",
   "metadata": {},
   "source": [
    "Similarly, we can use a `RobustScaler` to transform the data so that each feature is on a similar scale. \n",
    "\n",
    "This Scaler removes the median and scales the data according to the interquantile range."
   ]
  },
  {
   "cell_type": "code",
   "execution_count": 8,
   "id": "5f91ddef-950c-41e4-ac60-c10279be5c4e",
   "metadata": {},
   "outputs": [
    {
     "data": {
      "text/plain": [
       "array([[ 0.27718088,  0.13896777, -0.8418211 , ...,  0.1616044 ,\n",
       "        -0.01769234, -1.0306079 ],\n",
       "       [ 0.90910655,  1.1693693 , -1.2018533 , ...,  0.00913524,\n",
       "        -0.32055292,  0.9218878 ],\n",
       "       [ 0.52344096,  0.7085143 ,  0.02534103, ...,  0.337912  ,\n",
       "         0.07701626,  0.32116508],\n",
       "       ...,\n",
       "       [-0.44156653,  0.5282365 ,  0.47451875, ..., -0.06667074,\n",
       "         0.6605299 ,  0.13143413],\n",
       "       [ 0.95171684, -0.46198058,  1.125789  , ..., -0.57947564,\n",
       "        -1.0698221 ,  0.34692958],\n",
       "       [ 0.04399244,  0.4769823 , -1.0108182 , ...,  0.4250595 ,\n",
       "         1.1761445 , -0.39744592]], dtype=float32)"
      ]
     },
     "execution_count": 8,
     "metadata": {},
     "output_type": "execute_result"
    }
   ],
   "source": [
    "from cuml.preprocessing import RobustScaler\n",
    "\n",
    "# initialise the estimator\n",
    "rs = RobustScaler()\n",
    "\n",
    "# fit the estimator to the training data\n",
    "rs.fit(X_train)\n",
    "\n",
    "# transform testing data\n",
    "rs.transform(X_test)"
   ]
  },
  {
   "cell_type": "markdown",
   "id": "f42e4427-2e12-448b-84d2-a57f99a63b59",
   "metadata": {},
   "source": [
    "And we can inspect properties of the Scaler, such as the scale factor: "
   ]
  },
  {
   "cell_type": "code",
   "execution_count": 9,
   "id": "41a9f354-2990-4c63-b7fa-8dd71a25f4bd",
   "metadata": {},
   "outputs": [
    {
     "data": {
      "text/plain": [
       "array([6.35032785, 6.44095349, 6.79551202, 6.32966983, 6.53788012,\n",
       "       6.64531672, 6.45503956, 6.32018942, 6.40238178, 6.76403505,\n",
       "       6.22050089, 6.50096053, 6.55863214, 6.43624294, 6.53785229,\n",
       "       6.36557275, 6.46495354, 6.28573775, 6.17296183, 6.31272662,\n",
       "       6.22233289, 6.63490158, 6.43231112, 6.26866263, 6.20223182,\n",
       "       6.39026451, 6.42943138, 6.43496788, 6.34803963, 6.71131968,\n",
       "       6.67621696, 6.54794925, 6.57270426, 6.2324779 , 6.43320483,\n",
       "       6.3657831 , 6.53314948, 6.35471964, 6.61971724, 6.25920451,\n",
       "       6.63549674, 6.57850635, 6.50974876, 6.42993313, 6.31201524,\n",
       "       6.67033678, 6.52674371, 6.4192611 , 6.33742702, 6.241144  ,\n",
       "       6.44758427, 6.75257468, 6.42581367, 6.44181091, 6.56425184,\n",
       "       6.47299588, 6.66851884, 6.74984872, 6.74974865, 6.51129937,\n",
       "       6.33052784, 6.34172666, 6.54697716, 6.18710494, 6.75972241,\n",
       "       6.51529789, 6.45811135, 6.52624094, 6.45145816, 6.38879675])"
      ]
     },
     "execution_count": 9,
     "metadata": {},
     "output_type": "execute_result"
    }
   ],
   "source": [
    "rs.scale_"
   ]
  },
  {
   "cell_type": "markdown",
   "id": "4188baaa-5a2c-469b-92a1-3858823ab56e",
   "metadata": {},
   "source": [
    "## Dimensionality Reduction"
   ]
  },
  {
   "cell_type": "markdown",
   "id": "e43961a3-4af9-4d74-a08d-c2210be41808",
   "metadata": {},
   "source": [
    "When exploring our data, we often want to project the features down to 2-dimensions so that we can plot and visualise the data set, and see if we can identify patterns. \n",
    "\n",
    "We begin by using Principle Component Analysis (PCA), a linear dimensionality reduction technique. PCA requires input data to be on the same scale, so we pass in the output of our RobustScaler. "
   ]
  },
  {
   "cell_type": "code",
   "execution_count": 10,
   "id": "e8a2af7d-64a1-42bd-b115-2d4297426e89",
   "metadata": {},
   "outputs": [],
   "source": [
    "from cuml import PCA"
   ]
  },
  {
   "cell_type": "code",
   "execution_count": 11,
   "id": "9402bb41-a829-4e15-8ac0-70cb1b5b68bd",
   "metadata": {},
   "outputs": [
    {
     "name": "stdout",
     "output_type": "stream",
     "text": [
      "CPU times: user 86.7 ms, sys: 28.8 ms, total: 116 ms\n",
      "Wall time: 115 ms\n"
     ]
    }
   ],
   "source": [
    "%%time\n",
    "# initialise the estimator\n",
    "pca = PCA(n_components = 2)\n",
    "\n",
    "# fit the estimater to our training data\n",
    "pca.fit(rs.transform(X_train))\n",
    "\n",
    "## transform our testing data\n",
    "pca_test = pca.transform(rs.transform(X_test))"
   ]
  },
  {
   "cell_type": "code",
   "execution_count": 12,
   "id": "4900d9a5-d99b-47d4-beca-cc1cecb24dbe",
   "metadata": {},
   "outputs": [
    {
     "name": "stdout",
     "output_type": "stream",
     "text": [
      "Components: [[-0.05909706  0.01801155  0.0741434  -0.0680749   0.03234185  0.01911815\n",
      "  -0.32202154  0.03990031  0.10352241 -0.09809297  0.02929723  0.05729806\n",
      "  -0.16865826 -0.11624307 -0.12834518  0.03468076  0.16475973 -0.01919991\n",
      "   0.28346533  0.13221711 -0.06726342  0.03772593  0.05597396  0.06672216\n",
      "   0.11632077  0.10623258  0.11975448  0.13803078  0.02399221  0.11451922\n",
      "  -0.07122128  0.1590112   0.23601267  0.2073007   0.10733192  0.05279021\n",
      "   0.11074218  0.00545435  0.02777288 -0.01152427 -0.21798125  0.09582856\n",
      "  -0.02994056 -0.04662078  0.09114991 -0.01287654  0.14655872 -0.02079763\n",
      "   0.0152019  -0.11429025  0.14535442 -0.09559696  0.09526934 -0.16426626\n",
      "  -0.06811177  0.12478419 -0.04641464 -0.06593445 -0.04003704 -0.03518747\n",
      "  -0.17666101 -0.223866    0.31917208 -0.04565047  0.09308991  0.15789504\n",
      "   0.05159391 -0.06492973 -0.03131886 -0.04307794]\n",
      " [-0.03008626  0.09077378 -0.03259045 -0.01614369  0.11988664  0.0102212\n",
      "  -0.04683876  0.08303002  0.03236256 -0.04268901  0.10638602 -0.22894952\n",
      "   0.1158573  -0.16199991  0.05527266 -0.2691457   0.15021574 -0.10312656\n",
      "  -0.03759967  0.08010563 -0.09758692  0.02565565 -0.0816334   0.1496213\n",
      "   0.16773088  0.19740336 -0.0450896  -0.07860366 -0.0246741  -0.14055285\n",
      "  -0.10725855  0.03038679 -0.12409797 -0.12087147  0.1278799  -0.03310859\n",
      "  -0.15728842 -0.04524634 -0.00383577 -0.07962439  0.15976848  0.1532652\n",
      "  -0.06558055  0.19910005 -0.1994868  -0.02549437  0.10848852  0.02443683\n",
      "   0.08499086 -0.06856208  0.10826359  0.03838021  0.07292211  0.20415446\n",
      "  -0.03693274  0.19397506 -0.25837514 -0.05042036 -0.16461045 -0.015494\n",
      "   0.1598166  -0.05493892  0.02723148 -0.26388618 -0.00635817 -0.09824545\n",
      "  -0.16546616 -0.08693822 -0.02216157  0.13289855]]\n",
      "Explained variance: [1.1884284 1.1614621]\n",
      "Explained variance ratio: [0.03070707 0.0300103 ]\n",
      "Singular values: [288.42468 285.1336 ]\n",
      "Mean: [ 3.7612235e-03 -3.9414852e-03  4.3085758e-03 -1.3784275e-03\n",
      "  9.7626040e-04  1.9364380e-03 -4.3528498e-04 -2.1461709e-03\n",
      " -9.4984885e-04 -1.1430217e-03  4.5594579e-04  1.9949523e-03\n",
      "  1.1724955e-03  4.8662501e-04 -1.7606277e-03  2.2366962e-03\n",
      "  1.2031212e-04  1.5596327e-03  1.5365218e-03 -2.3664141e-03\n",
      " -4.2926795e-03  1.1279957e-03 -9.9247915e-04 -6.0852605e-04\n",
      "  8.9858449e-04  1.7399569e-03 -2.0289803e-03 -1.9586948e-03\n",
      " -4.7965784e-04 -2.0032253e-03  1.1339338e-03  1.4925647e-03\n",
      " -1.1594456e-04 -1.6631443e-03  2.1573366e-03  6.6011609e-04\n",
      "  1.4913013e-03 -1.1516635e-03  3.8702732e-03  1.3048067e-03\n",
      " -2.1911447e-03  3.8251181e-03 -1.0752544e-04 -1.3996441e-04\n",
      "  1.3843809e-04 -3.4804104e-03  1.0791005e-03  5.7796121e-04\n",
      " -6.2267150e-04 -4.8136753e-03  1.3651347e-04  1.2379815e-03\n",
      " -7.0663998e-05 -5.5158889e-04 -1.6779673e-03 -2.2011297e-03\n",
      "  2.1468403e-03 -1.3421987e-03 -1.2374823e-03 -1.1038439e-03\n",
      "  1.0701532e-03  1.3223330e-03  4.7687924e-04 -8.8945020e-04\n",
      " -2.7709238e-03 -1.8660791e-03  7.8718434e-04  5.1556964e-04\n",
      "  2.6053053e-04 -4.6110479e-04]\n",
      "Noise variance: [0.]\n"
     ]
    }
   ],
   "source": [
    "print(f'Components: {pca.components_}')\n",
    "print(f'Explained variance: {pca.explained_variance_}')\n",
    "exp_var = pca.explained_variance_ratio_\n",
    "print(f'Explained variance ratio: {exp_var}')\n",
    "\n",
    "print(f'Singular values: {pca.singular_values_}')\n",
    "print(f'Mean: {pca.mean_}')\n",
    "print(f'Noise variance: {pca.noise_variance_}')"
   ]
  },
  {
   "cell_type": "markdown",
   "id": "79c69b97-60dc-471f-a6e0-bbb1e7e5f94b",
   "metadata": {},
   "source": [
    "PCA is fast, but there are more sophisticated techniques we can use to possibly expose more structure in the data. Due to the non-linearity of these alternative dimensionality reduction techniques, they are more computationaly expensive. However, we benefit here from the acceleration provided by NVIDIA GPUs and the RAPIDS implementations. \n",
    "\n",
    "UMAP is a non-linear dimensionality reduction technique:"
   ]
  },
  {
   "cell_type": "code",
   "execution_count": 13,
   "id": "9486c2b8-b122-4256-867c-65c935f21f64",
   "metadata": {},
   "outputs": [],
   "source": [
    "from cuml import UMAP"
   ]
  },
  {
   "cell_type": "code",
   "execution_count": 14,
   "id": "69f328dd-d137-4573-ba43-28cf1d76ef76",
   "metadata": {},
   "outputs": [
    {
     "name": "stdout",
     "output_type": "stream",
     "text": [
      "CPU times: user 1.01 s, sys: 441 ms, total: 1.45 s\n",
      "Wall time: 1.44 s\n"
     ]
    }
   ],
   "source": [
    "%%time\n",
    "umap = UMAP(n_components = 2)\n",
    "umap.fit(X_train)\n",
    "umap_test = umap.transform(X_test)"
   ]
  },
  {
   "cell_type": "markdown",
   "id": "2d0a0e6c-e367-4e26-b601-9ce865eb66ab",
   "metadata": {},
   "source": [
    "As you can see, UMAP is notably slower than PCA, but let's see if it allows us to uncover more structure in our data by plotting the projected test data: "
   ]
  },
  {
   "cell_type": "code",
   "execution_count": 15,
   "id": "742f9d90-bd80-4112-be7b-f7236239d4ae",
   "metadata": {},
   "outputs": [],
   "source": [
    "import matplotlib.pyplot as plt\n",
    "import cupy as cp"
   ]
  },
  {
   "cell_type": "code",
   "execution_count": 16,
   "id": "72c23bf8-6fd0-4b52-9020-a2279e91bdc0",
   "metadata": {},
   "outputs": [],
   "source": [
    "umap_cpu = cp.asnumpy(umap_test)\n",
    "pca_cpu = cp.asnumpy(pca_test)"
   ]
  },
  {
   "cell_type": "code",
   "execution_count": 17,
   "id": "4c3e1d30-aeb0-4d7f-a45d-815b20ac64d4",
   "metadata": {},
   "outputs": [
    {
     "data": {
      "text/plain": [
       "<matplotlib.collections.PathCollection at 0x7f14a56eba90>"
      ]
     },
     "execution_count": 17,
     "metadata": {},
     "output_type": "execute_result"
    },
    {
     "data": {
      "image/png": "[encoded data removed]",
      "text/plain": [
       "<Figure size 432x288 with 1 Axes>"
      ]
     },
     "metadata": {
      "needs_background": "light"
     },
     "output_type": "display_data"
    }
   ],
   "source": [
    "plt.scatter(umap_cpu[:,0], umap_cpu[:,1], c=cp.asnumpy(y_test))"
   ]
  },
  {
   "cell_type": "code",
   "execution_count": 18,
   "id": "e1650e07-08b2-4bdb-b703-51639a9bb3e6",
   "metadata": {},
   "outputs": [
    {
     "data": {
      "text/plain": [
       "<matplotlib.collections.PathCollection at 0x7f14a55bc7c0>"
      ]
     },
     "execution_count": 18,
     "metadata": {},
     "output_type": "execute_result"
    },
    {
     "data": {
      "image/png": "[encoded data removed]",
      "text/plain": [
       "<Figure size 432x288 with 1 Axes>"
      ]
     },
     "metadata": {
      "needs_background": "light"
     },
     "output_type": "display_data"
    }
   ],
   "source": [
    "plt.scatter(pca_cpu[:,0], umap_cpu[:,1], c = cp.asnumpy(y_test))"
   ]
  },
  {
   "cell_type": "markdown",
   "id": "d5b3e3bd-1f3a-4aea-97c8-dc0cf9cccea2",
   "metadata": {},
   "source": [
    "### Training a  model \n",
    "\n",
    "Now that we've transformed our data, and have been able to identify structure in the data we can go ahead and train a model to distinguish between the two classes of data. Let's start by training a logistic regression model. \n",
    "\n",
    "Again, we follow the _initialise_, _fit_, _predict_ workflow that we used with the scalers and dimensionality reduction techniques earlier in the notebook. "
   ]
  },
  {
   "cell_type": "code",
   "execution_count": 19,
   "id": "abf302a9-2eed-48d9-bddb-dff3be0d39a3",
   "metadata": {},
   "outputs": [
    {
     "data": {
      "text/plain": [
       "array([1, 1, 0, ..., 0, 1, 1])"
      ]
     },
     "execution_count": 19,
     "metadata": {},
     "output_type": "execute_result"
    }
   ],
   "source": [
    "## initialise\n",
    "clr = cuml.LogisticRegression()\n",
    "\n",
    "## fit to scaled data\n",
    "clr.fit(rs.transform(X_train), y_train)\n",
    "\n",
    "## predict \n",
    "clr_preds = clr.predict(rs.transform(X_test))\n",
    "clr_preds"
   ]
  },
  {
   "cell_type": "markdown",
   "id": "bf3d034b-00bf-459b-a636-bbe0b4b64d82",
   "metadata": {},
   "source": [
    "### Evaluating the model\n",
    "\n",
    "cuML provides a range of built in metrics to evaluate model performance. \n"
   ]
  },
  {
   "cell_type": "code",
   "execution_count": 20,
   "id": "954ddc2a-812a-4570-88d3-0664ba8a8026",
   "metadata": {},
   "outputs": [
    {
     "data": {
      "text/plain": [
       "0.5002333521842957"
      ]
     },
     "execution_count": 20,
     "metadata": {},
     "output_type": "execute_result"
    }
   ],
   "source": [
    "cuml.metrics.accuracy.accuracy_score(y_test, clr_preds)"
   ]
  },
  {
   "cell_type": "markdown",
   "id": "206a4155-5248-4114-9bf2-954bdcca711e",
   "metadata": {},
   "source": [
    "It looks like this prediction accuracy is only slightly higher than 50%. We would expect similar results by just tossing a coin to allocate classes. Let's inviestigate this further by looking at a confusion matrix:"
   ]
  },
  {
   "cell_type": "code",
   "execution_count": 21,
   "id": "45a2e5b5-f1d0-470d-90c9-1da4535fdffc",
   "metadata": {},
   "outputs": [
    {
     "data": {
      "text/plain": [
       "array([[6143, 8929],\n",
       "       [6064, 8864]])"
      ]
     },
     "execution_count": 21,
     "metadata": {},
     "output_type": "execute_result"
    }
   ],
   "source": [
    "cuml.metrics.confusion_matrix(y_test, clr_preds)"
   ]
  },
  {
   "cell_type": "markdown",
   "id": "fc43bfb1-b03a-4daf-bb30-69a66de60d97",
   "metadata": {},
   "source": [
    "The confusion matrix tells us that there are many misclassifications in both the '0' and '1' classes. Let's try to train another model and see if we can get better performance:"
   ]
  },
  {
   "cell_type": "code",
   "execution_count": 22,
   "id": "d7a46e53-abfd-42fd-a5db-eaf8e07bedbc",
   "metadata": {},
   "outputs": [
    {
     "data": {
      "text/plain": [
       "array([1, 0, 1, ..., 1, 1, 0])"
      ]
     },
     "execution_count": 22,
     "metadata": {},
     "output_type": "execute_result"
    }
   ],
   "source": [
    "# initialise\n",
    "ckn = cuml.neighbors.KNeighborsClassifier()\n",
    "\n",
    "# fit\n",
    "ckn.fit(rs.transform(X_train), y_train)\n",
    "\n",
    "# predict\n",
    "ckn_preds = ckn.predict(rs.transform(X_test))\n",
    "ckn_preds"
   ]
  },
  {
   "cell_type": "code",
   "execution_count": 23,
   "id": "875a880f-1d4f-46f8-a9f1-7888f9457ec7",
   "metadata": {},
   "outputs": [
    {
     "data": {
      "text/plain": [
       "0.9884666800498962"
      ]
     },
     "execution_count": 23,
     "metadata": {},
     "output_type": "execute_result"
    }
   ],
   "source": [
    "cuml.metrics.accuracy.accuracy_score(y_test, ckn_preds)"
   ]
  },
  {
   "cell_type": "code",
   "execution_count": 35,
   "id": "31d43b00-6588-44ce-954a-17b52eb05f2c",
   "metadata": {},
   "outputs": [
    {
     "data": {
      "text/plain": [
       "array([[14917,   191],\n",
       "       [  155, 14737]])"
      ]
     },
     "execution_count": 35,
     "metadata": {},
     "output_type": "execute_result"
    }
   ],
   "source": [
    "cuml.metrics.confusion_matrix(ckn_preds, y_test)"
   ]
  },
  {
   "cell_type": "markdown",
   "id": "080aaaee-cc2a-4daf-80a8-22d83df7a6c2",
   "metadata": {},
   "source": [
    "For our dataset k-nearest neighbour model is much better at predicting classes than the Logistic Regression model. "
   ]
  },
  {
   "cell_type": "markdown",
   "id": "a6231c73-7df9-48d3-89dc-cdb328066b3d",
   "metadata": {},
   "source": [
    "## Pipelines\n",
    "\n",
    "To quote the wonderful scikit-learn documentation, `Pipeline` \"sequentially [applies] a list of transforms and a final estimator\" to a dataset.\n",
    "\n",
    "By collecting transformations and training into a single pipeline, we can confidently do things like cross-validation and hyper-parameter optimization without worrying about data leakage.\n",
    "\n",
    "cuML transformations and estimators are fully compatible with the scikit-learn Pipeline API.\n",
    "\n",
    "In our previous examples we used a RobustScaler followed by a k-Nearest neighbour model. Let's put those together in a pipeline:"
   ]
  },
  {
   "cell_type": "code",
   "execution_count": 25,
   "id": "2207bac6-d5dd-40eb-9c82-d75ad6e8c3c6",
   "metadata": {},
   "outputs": [],
   "source": [
    "from sklearn.pipeline import Pipeline\n",
    "\n",
    "pipe = Pipeline([\n",
    "    ('scaler', cuml.preprocessing.RobustScaler()),\n",
    "    ('knn', cuml.neighbors.KNeighborsClassifier()),\n",
    "])"
   ]
  },
  {
   "cell_type": "markdown",
   "id": "2dc06eeb-633e-42f1-bcfd-dd1a31b960aa",
   "metadata": {},
   "source": [
    "We can fit the whole pipeline in one command, and make predictions from the raw data, without having to first call the scale, then the model."
   ]
  },
  {
   "cell_type": "code",
   "execution_count": 26,
   "id": "e2427c0e-3ccc-40b0-b439-7933340c0742",
   "metadata": {},
   "outputs": [
    {
     "data": {
      "text/plain": [
       "Pipeline(steps=[('scaler', RobustScaler()), ('knn', KNeighborsClassifier())])"
      ]
     },
     "execution_count": 26,
     "metadata": {},
     "output_type": "execute_result"
    }
   ],
   "source": [
    "pipe.fit(X_train, y_train)"
   ]
  },
  {
   "cell_type": "code",
   "execution_count": 27,
   "id": "f7b88ff1-ce27-42e8-810d-9a98ab5e16db",
   "metadata": {},
   "outputs": [
    {
     "data": {
      "text/plain": [
       "array([1, 0, 1, ..., 1, 1, 0])"
      ]
     },
     "execution_count": 27,
     "metadata": {},
     "output_type": "execute_result"
    }
   ],
   "source": [
    "pipe.predict(X_test)"
   ]
  },
  {
   "cell_type": "code",
   "execution_count": 28,
   "id": "6cf9c7a0-e1dd-46a5-9a15-02e335b78b59",
   "metadata": {},
   "outputs": [
    {
     "data": {
      "text/plain": [
       "array([[14917,   191],\n",
       "       [  155, 14737]])"
      ]
     },
     "execution_count": 28,
     "metadata": {},
     "output_type": "execute_result"
    }
   ],
   "source": [
    "cuml.metrics.confusion_matrix(pipe.predict(X_test), y_test)"
   ]
  },
  {
   "cell_type": "markdown",
   "id": "b2cfccfa-7402-4a0d-8541-cad9b35764be",
   "metadata": {},
   "source": [
    "## Explainability\n",
    "\n",
    "Model explainability is often critically important. cuML provides a GPU-accelerated SHAP Kernel Explainer and a Permutation Explainer."
   ]
  },
  {
   "cell_type": "code",
   "execution_count": 29,
   "id": "d7108edd-c51f-4768-ad6d-5e0ccca8e763",
   "metadata": {},
   "outputs": [
    {
     "data": {
      "text/plain": [
       "array([[ 0.9414298 ,  1.2883328 ,  1.2064881 , -0.30565166,  0.35499024,\n",
       "        -0.27393305,  0.09936225,  0.10741448, -0.5426788 ,  0.13819003],\n",
       "       [-1.4213939 ,  0.7651012 , -1.4898689 , -0.08747172, -0.25713038,\n",
       "        -0.2309308 , -0.28295338, -0.11387861, -0.08676493,  0.29971695]],\n",
       "      dtype=float32)"
      ]
     },
     "execution_count": 29,
     "metadata": {},
     "output_type": "execute_result"
    }
   ],
   "source": [
    "from cuml.explainer import KernelExplainer\n",
    "from cuml.datasets import make_classification, make_regression\n",
    "from cuml.model_selection import train_test_split\n",
    "import cuml\n",
    "Xr, yr = make_regression(\n",
    "    n_samples=102,\n",
    "    n_features=10,\n",
    "    noise=0.1,\n",
    "    random_state=42)\n",
    "\n",
    "Xr_train, Xr_test, yr_train, yr_test = train_test_split(\n",
    "    Xr,\n",
    "    yr,\n",
    "    test_size=2,\n",
    "    random_state=42)\n",
    "\n",
    "model = cuml.svm.SVR().fit(Xr_train, yr_train)\n",
    "\n",
    "cu_explainer = KernelExplainer(\n",
    "    model=model.predict,\n",
    "    data=Xr_train,\n",
    "    is_gpu_model=True)\n",
    "\n",
    "cu_shap_values = cu_explainer.shap_values(Xr_test)\n",
    "cu_shap_values"
   ]
  },
  {
   "cell_type": "markdown",
   "id": "899ab982-b69a-4583-b4e8-2621bb01a484",
   "metadata": {},
   "source": [
    "## Pickling Models\n",
    "\n",
    "So far, we've only stored our models in memory. This final section demonstrates basic pickling cuML models, and pipelines, for persistence. This allows us to load these models into other environments or programs and use them to make predictions on new data. "
   ]
  },
  {
   "cell_type": "markdown",
   "id": "c7098f35-201b-458e-aec8-da97428c0000",
   "metadata": {},
   "source": [
    "We can pickle individual estimators."
   ]
  },
  {
   "cell_type": "code",
   "execution_count": 30,
   "id": "cb30877c-3704-41a4-a707-4fc1f13efcde",
   "metadata": {},
   "outputs": [],
   "source": [
    "import pickle"
   ]
  },
  {
   "cell_type": "code",
   "execution_count": 31,
   "id": "a2e563b6-71b0-4aa9-b6be-12eea436135d",
   "metadata": {},
   "outputs": [
    {
     "data": {
      "text/plain": [
       "SVR()"
      ]
     },
     "execution_count": 31,
     "metadata": {},
     "output_type": "execute_result"
    }
   ],
   "source": [
    "pickle.dump(model, open(\"model.pkl\", \"wb\"))\n",
    "loaded_model = pickle.load(open(\"model.pkl\", \"rb\"))\n",
    "loaded_model"
   ]
  },
  {
   "cell_type": "markdown",
   "id": "5c01dd79-b272-415e-9f76-ed8a2324bda9",
   "metadata": {},
   "source": [
    "We can even pickle the pipeline we made earlier."
   ]
  },
  {
   "cell_type": "code",
   "execution_count": 32,
   "id": "152ae6d5-c54d-48c5-ba77-7162764eaaed",
   "metadata": {},
   "outputs": [
    {
     "name": "stdout",
     "output_type": "stream",
     "text": [
      "0.9884666800498962\n"
     ]
    },
    {
     "data": {
      "text/plain": [
       "array([1, 0, 1, ..., 1, 1, 0])"
      ]
     },
     "execution_count": 32,
     "metadata": {},
     "output_type": "execute_result"
    }
   ],
   "source": [
    "pickle.dump(pipe, open(\"pipeline.pkl\", \"wb\"))\n",
    "loaded_pipeline = pickle.load(open(\"pipeline.pkl\", \"rb\"))\n",
    "\n",
    "print(loaded_pipeline.score(X_test, y_test))\n",
    "loaded_pipeline.predict(X_test)"
   ]
  },
  {
   "cell_type": "code",
   "execution_count": null,
   "id": "54bc3266-7d78-457e-bdb1-785225769c1b",
   "metadata": {},
   "outputs": [],
   "source": []
  }
 ],
 "metadata": {
  "environment": {
   "kernel": "conda-env-rapids-22.04-py",
   "name": "common-cu110.m90",
   "type": "gcloud",
   "uri": "gcr.io/deeplearning-platform-release/base-cu110:m90"
  },
  "kernelspec": {
   "display_name": "Python [conda env:rapids-22.04]",
   "language": "python",
   "name": "conda-env-rapids-22.04-py"
  },
  "language_info": {
   "codemirror_mode": {
    "name": "ipython",
    "version": 3
   },
   "file_extension": ".py",
   "mimetype": "text/x-python",
   "name": "python",
   "nbconvert_exporter": "python",
   "pygments_lexer": "ipython3",
   "version": "3.8.12"
  }
 },
 "nbformat": 4,
 "nbformat_minor": 5
}
